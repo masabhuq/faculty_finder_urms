{
 "cells": [
  {
   "metadata": {},
   "cell_type": "markdown",
   "source": [
    "- 2nd column, matches the faculty naming pattern. That's where the index starts. Automate it this way. \n",
    "- Remove the first 0 in the values of section rows if there are any."
   ],
   "id": "75a137c4bdc9effb"
  },
  {
   "metadata": {},
   "cell_type": "code",
   "source": "from scripts.script import faculty_df, course_catalog, faculty_finder",
   "id": "1920279943f5ac2c",
   "outputs": [],
   "execution_count": null
  },
  {
   "metadata": {
    "ExecuteTime": {
     "end_time": "2025-01-18T06:36:50.380615Z",
     "start_time": "2025-01-18T06:36:50.371588Z"
    }
   },
   "cell_type": "code",
   "source": "import pandas as pd",
   "id": "bcbfc6eeed566c54",
   "outputs": [],
   "execution_count": 37
  },
  {
   "metadata": {
    "ExecuteTime": {
     "end_time": "2025-01-18T07:04:57.500246Z",
     "start_time": "2025-01-18T07:04:57.423297Z"
    }
   },
   "cell_type": "code",
   "source": "df = pd.read_excel(\"../dataset/spring_data.xlsx\")",
   "id": "768aa139860c3549",
   "outputs": [],
   "execution_count": 67
  },
  {
   "metadata": {},
   "cell_type": "code",
   "source": "df",
   "id": "45ed940dd20c955e",
   "outputs": [],
   "execution_count": null
  },
  {
   "metadata": {
    "ExecuteTime": {
     "end_time": "2025-01-18T07:05:00.693860Z",
     "start_time": "2025-01-18T07:05:00.686627Z"
    }
   },
   "cell_type": "code",
   "source": [
    "def verify_faculty(s):\n",
    "    words = s.split()\n",
    "    return len(words) == 1 and words[0].isalpha()\n",
    "\n",
    "def faculty_df(df): \n",
    "    df.drop(df.columns[0], axis=1, inplace=True)\n",
    "    df = pd.concat([df[column] for column in df.columns], ignore_index=True)\n",
    "    df.dropna(inplace=True)\n",
    "    df = df.str.split('-', n=1, expand=True)\n",
    "    df.iloc[:, 0] = df.iloc[:, 0].apply(lambda s: s.strip())\n",
    "    df = df[df.iloc[:, 0].apply(lambda s: verify_faculty(s))]\n",
    "    df.rename(columns={0: 'code', 1: 'name'}, inplace = True)\n",
    "    df.loc[:, 'code'] = df.loc[:, 'code'].apply(lambda s: s.strip())\n",
    "    df.loc[:, 'name'] = df.loc[:, 'name'].apply(lambda s: s.strip())\n",
    "\n",
    "    new_row = pd.DataFrame([{'code': 'TBA', 'name': 'To be announced'}])\n",
    "    df = pd.concat([df, new_row], ignore_index=True)\n",
    "    \n",
    "    return df \n",
    "    "
   ],
   "id": "ff106b4ac17791fc",
   "outputs": [],
   "execution_count": 68
  },
  {
   "metadata": {
    "ExecuteTime": {
     "end_time": "2025-01-18T07:05:03.386071Z",
     "start_time": "2025-01-18T07:05:03.376092Z"
    }
   },
   "cell_type": "code",
   "source": [
    "def course_catalog (df):\n",
    "    df = df.drop(df.columns[0], axis = 1)\n",
    "    df = pd.concat([df[column] for column in df.columns], ignore_index=True)\n",
    "    df = df.dropna()\n",
    "    pattern = r'([A-Z]{3} \\d{3}.*)'\n",
    "    df = df.str.extract(pattern).dropna()\n",
    "    df = df.iloc[:, 0].str.split('-', expand = True)\n",
    "    df.iloc[:, 3] = df.iloc[:, 3].apply(lambda s: s.split()[0])\n",
    "    df = df.drop(df.columns[[2,4]], axis = 1)\n",
    "    df.rename(columns={0: 'cc',\n",
    "                       1: 'section',\n",
    "                       3: 'faculty'},\n",
    "              inplace = True)\n",
    "    df = df.map(lambda s: s.strip())\n",
    "    df.loc[:, 'section'] = df.loc[:, 'section'].apply(lambda s: s.lstrip('0'))\n",
    "    \n",
    "    return df\n",
    "    \n",
    "    "
   ],
   "id": "d2987e245a946bb9",
   "outputs": [],
   "execution_count": 69
  },
  {
   "metadata": {
    "ExecuteTime": {
     "end_time": "2025-01-18T07:05:05.210592Z",
     "start_time": "2025-01-18T07:05:05.203321Z"
    }
   },
   "cell_type": "code",
   "source": [
    "def faculty_finder(courses: pd.DataFrame,\n",
    "                   faculty: pd.DataFrame,\n",
    "                   cc: str,\n",
    "                   sec: str):\n",
    "    row = courses[(courses['cc'] == cc) & (courses['section'] == sec)].loc[:, 'faculty']\n",
    "    row = row.iloc[0]\n",
    "    fac = faculty.loc[faculty.loc[:, 'code'] == row].loc[:, 'name'].item()\n",
    "    \n",
    "    return fac"
   ],
   "id": "2e9146fb6713368",
   "outputs": [],
   "execution_count": 70
  },
  {
   "metadata": {
    "ExecuteTime": {
     "end_time": "2025-01-18T07:05:13.876173Z",
     "start_time": "2025-01-18T07:05:06.177161Z"
    }
   },
   "cell_type": "code",
   "source": [
    "faculty = faculty_df(df)\n",
    "courses = course_catalog(df)\n",
    "cc = input('Enter course code: ')\n",
    "sec = input('Enter section: ')"
   ],
   "id": "f9f303e64d6bec88",
   "outputs": [],
   "execution_count": 71
  },
  {
   "metadata": {
    "ExecuteTime": {
     "end_time": "2025-01-18T07:05:15.472530Z",
     "start_time": "2025-01-18T07:05:15.461496Z"
    }
   },
   "cell_type": "code",
   "source": "faculty_finder(courses, faculty, cc, sec)",
   "id": "1d13d07373466723",
   "outputs": [
    {
     "data": {
      "text/plain": [
       "'Nafees Monsoor'"
      ]
     },
     "execution_count": 72,
     "metadata": {},
     "output_type": "execute_result"
    }
   ],
   "execution_count": 72
  },
  {
   "metadata": {
    "ExecuteTime": {
     "end_time": "2025-01-18T06:59:54.507208Z",
     "start_time": "2025-01-18T06:59:54.334813Z"
    }
   },
   "cell_type": "code",
   "source": "courses.head()",
   "id": "9f6826153bb55dfe",
   "outputs": [
    {
     "data": {
      "text/plain": [
       "         cc section faculty\n",
       "3  BUS 1201       7     NMK\n",
       "4  BUS 1201       9     EAZ\n",
       "5  BUS 2101       2     GAU\n",
       "6  BUS 2201       1     FMS\n",
       "7  BUS 2301       5    GMSU"
      ],
      "text/html": [
       "<div>\n",
       "<style scoped>\n",
       "    .dataframe tbody tr th:only-of-type {\n",
       "        vertical-align: middle;\n",
       "    }\n",
       "\n",
       "    .dataframe tbody tr th {\n",
       "        vertical-align: top;\n",
       "    }\n",
       "\n",
       "    .dataframe thead th {\n",
       "        text-align: right;\n",
       "    }\n",
       "</style>\n",
       "<table border=\"1\" class=\"dataframe\">\n",
       "  <thead>\n",
       "    <tr style=\"text-align: right;\">\n",
       "      <th></th>\n",
       "      <th>cc</th>\n",
       "      <th>section</th>\n",
       "      <th>faculty</th>\n",
       "    </tr>\n",
       "  </thead>\n",
       "  <tbody>\n",
       "    <tr>\n",
       "      <th>3</th>\n",
       "      <td>BUS 1201</td>\n",
       "      <td>7</td>\n",
       "      <td>NMK</td>\n",
       "    </tr>\n",
       "    <tr>\n",
       "      <th>4</th>\n",
       "      <td>BUS 1201</td>\n",
       "      <td>9</td>\n",
       "      <td>EAZ</td>\n",
       "    </tr>\n",
       "    <tr>\n",
       "      <th>5</th>\n",
       "      <td>BUS 2101</td>\n",
       "      <td>2</td>\n",
       "      <td>GAU</td>\n",
       "    </tr>\n",
       "    <tr>\n",
       "      <th>6</th>\n",
       "      <td>BUS 2201</td>\n",
       "      <td>1</td>\n",
       "      <td>FMS</td>\n",
       "    </tr>\n",
       "    <tr>\n",
       "      <th>7</th>\n",
       "      <td>BUS 2301</td>\n",
       "      <td>5</td>\n",
       "      <td>GMSU</td>\n",
       "    </tr>\n",
       "  </tbody>\n",
       "</table>\n",
       "</div>"
      ]
     },
     "execution_count": 52,
     "metadata": {},
     "output_type": "execute_result"
    }
   ],
   "execution_count": 52
  },
  {
   "metadata": {
    "ExecuteTime": {
     "end_time": "2025-01-18T07:02:42.737867Z",
     "start_time": "2025-01-18T07:02:42.723877Z"
    }
   },
   "cell_type": "code",
   "source": "courses[courses['section'] == '2']",
   "id": "32bdf62aa2bcea55",
   "outputs": [
    {
     "data": {
      "text/plain": [
       "           cc section faculty\n",
       "5    BUS 2101       2     GAU\n",
       "8    BUS 3102       2     ShS\n",
       "13   CSE 1203       2     TBA\n",
       "18   CSE 2301       2     JFR\n",
       "22   CSE 3201       2     TBA\n",
       "..        ...     ...     ...\n",
       "897  PHY 1101       2     TBA\n",
       "916  BUS 3201       2   MinUA\n",
       "917  BUS 3202       2     ZAh\n",
       "937  ENG 2203       2     JNT\n",
       "940  GED 2159       2     AAR\n",
       "\n",
       "[100 rows x 3 columns]"
      ],
      "text/html": [
       "<div>\n",
       "<style scoped>\n",
       "    .dataframe tbody tr th:only-of-type {\n",
       "        vertical-align: middle;\n",
       "    }\n",
       "\n",
       "    .dataframe tbody tr th {\n",
       "        vertical-align: top;\n",
       "    }\n",
       "\n",
       "    .dataframe thead th {\n",
       "        text-align: right;\n",
       "    }\n",
       "</style>\n",
       "<table border=\"1\" class=\"dataframe\">\n",
       "  <thead>\n",
       "    <tr style=\"text-align: right;\">\n",
       "      <th></th>\n",
       "      <th>cc</th>\n",
       "      <th>section</th>\n",
       "      <th>faculty</th>\n",
       "    </tr>\n",
       "  </thead>\n",
       "  <tbody>\n",
       "    <tr>\n",
       "      <th>5</th>\n",
       "      <td>BUS 2101</td>\n",
       "      <td>2</td>\n",
       "      <td>GAU</td>\n",
       "    </tr>\n",
       "    <tr>\n",
       "      <th>8</th>\n",
       "      <td>BUS 3102</td>\n",
       "      <td>2</td>\n",
       "      <td>ShS</td>\n",
       "    </tr>\n",
       "    <tr>\n",
       "      <th>13</th>\n",
       "      <td>CSE 1203</td>\n",
       "      <td>2</td>\n",
       "      <td>TBA</td>\n",
       "    </tr>\n",
       "    <tr>\n",
       "      <th>18</th>\n",
       "      <td>CSE 2301</td>\n",
       "      <td>2</td>\n",
       "      <td>JFR</td>\n",
       "    </tr>\n",
       "    <tr>\n",
       "      <th>22</th>\n",
       "      <td>CSE 3201</td>\n",
       "      <td>2</td>\n",
       "      <td>TBA</td>\n",
       "    </tr>\n",
       "    <tr>\n",
       "      <th>...</th>\n",
       "      <td>...</td>\n",
       "      <td>...</td>\n",
       "      <td>...</td>\n",
       "    </tr>\n",
       "    <tr>\n",
       "      <th>897</th>\n",
       "      <td>PHY 1101</td>\n",
       "      <td>2</td>\n",
       "      <td>TBA</td>\n",
       "    </tr>\n",
       "    <tr>\n",
       "      <th>916</th>\n",
       "      <td>BUS 3201</td>\n",
       "      <td>2</td>\n",
       "      <td>MinUA</td>\n",
       "    </tr>\n",
       "    <tr>\n",
       "      <th>917</th>\n",
       "      <td>BUS 3202</td>\n",
       "      <td>2</td>\n",
       "      <td>ZAh</td>\n",
       "    </tr>\n",
       "    <tr>\n",
       "      <th>937</th>\n",
       "      <td>ENG 2203</td>\n",
       "      <td>2</td>\n",
       "      <td>JNT</td>\n",
       "    </tr>\n",
       "    <tr>\n",
       "      <th>940</th>\n",
       "      <td>GED 2159</td>\n",
       "      <td>2</td>\n",
       "      <td>AAR</td>\n",
       "    </tr>\n",
       "  </tbody>\n",
       "</table>\n",
       "<p>100 rows × 3 columns</p>\n",
       "</div>"
      ]
     },
     "execution_count": 59,
     "metadata": {},
     "output_type": "execute_result"
    }
   ],
   "execution_count": 59
  },
  {
   "metadata": {
    "ExecuteTime": {
     "end_time": "2025-01-18T07:02:35.820261Z",
     "start_time": "2025-01-18T07:02:35.805433Z"
    }
   },
   "cell_type": "code",
   "source": "courses.loc[:, 'section'] = courses.loc[:, 'section'].apply(lambda s: s.lstrip('0'))",
   "id": "8b9de82cbb4db675",
   "outputs": [],
   "execution_count": 57
  },
  {
   "metadata": {},
   "cell_type": "code",
   "outputs": [],
   "execution_count": null,
   "source": "courses",
   "id": "3165d645a7f3a871"
  }
 ],
 "metadata": {
  "kernelspec": {
   "display_name": "Python 3",
   "language": "python",
   "name": "python3"
  },
  "language_info": {
   "codemirror_mode": {
    "name": "ipython",
    "version": 2
   },
   "file_extension": ".py",
   "mimetype": "text/x-python",
   "name": "python",
   "nbconvert_exporter": "python",
   "pygments_lexer": "ipython2",
   "version": "2.7.6"
  }
 },
 "nbformat": 4,
 "nbformat_minor": 5
}
